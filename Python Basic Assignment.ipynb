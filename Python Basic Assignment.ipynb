{
 "cells": [
  {
   "cell_type": "markdown",
   "id": "0c0224e6-dc59-410d-9741-df340d72469f",
   "metadata": {},
   "source": [
    "TOPIC: Python Basics Variable"
   ]
  },
  {
   "cell_type": "markdown",
   "id": "99ead092-77c0-4cbf-861e-b040a23b5b54",
   "metadata": {},
   "source": [
    "1. Declare two variables, `x` and `y`, and assign them integer values. Swap the\n",
    "values of these variables without using any temporary variable."
   ]
  },
  {
   "cell_type": "code",
   "execution_count": 9,
   "id": "5ef54c6b-05f8-4791-bdac-5759d9dbad13",
   "metadata": {},
   "outputs": [
    {
     "name": "stdout",
     "output_type": "stream",
     "text": [
      "Swapping the values: x = 10 y = 20\n"
     ]
    }
   ],
   "source": [
    "#step 1: Declare and assign the integer values to x and y\n",
    "x = 20\n",
    "y = 10\n",
    "\n",
    "#step 2: Swaping the values without a temporary variable\n",
    "\n",
    "x = x + y                       #Here we are considering original values of x and y and adding it\n",
    "y = x - y                       #Subtracting the original value of y with the updated value of x and stored in it\n",
    "x = x - y                       #Subtracting the original value of y(now in x) from the updated x to get the original value of x\n",
    "\n",
    "#Step 3: Now x contains the values of y and y contains the value of x\n",
    "print (\"Swapping the values: x =\", x, \"y =\", y )"
   ]
  },
  {
   "cell_type": "markdown",
   "id": "412bc660-cac1-4f91-9be6-24caf3f85776",
   "metadata": {},
   "source": [
    "- In this code we used addition and subtraction to swap the values.\n",
    "- Here In step 1 : I had created x and y variable, assigned them integer values 20 and 10 as given in the question.\n",
    "- In step 2 : I had add the values of x and y stored it in x\n",
    "- After that Subtract the original value of y with the updated value of x and stored it in y\n",
    "- Then again in next step Subtracting the original value of y(now in x) from the updated x to get the original value of x.\n",
    "- In step 3 : I had used the print function print() to swap the value of x in y and the value of y in x which is x = 10, y = 20."
   ]
  },
  {
   "cell_type": "markdown",
   "id": "fd25f55d-4afa-410a-be4a-0bc79b149b15",
   "metadata": {},
   "source": [
    "2. Create a program that calculates the area of a rectangle. Take the length and\n",
    "width as inputs from the user and store them in variables. Calculate and\n",
    "display the area."
   ]
  },
  {
   "cell_type": "code",
   "execution_count": 11,
   "id": "339f0be2-2fff-4e0f-9af9-e72f2c09ddb3",
   "metadata": {},
   "outputs": [
    {
     "name": "stdin",
     "output_type": "stream",
     "text": [
      "length of the rectangle: 50\n",
      "width of the rectangle: 50\n"
     ]
    },
    {
     "name": "stdout",
     "output_type": "stream",
     "text": [
      "Area of the rectangle = 2500.0\n"
     ]
    }
   ],
   "source": [
    "#Step 1: creating user inputs for length and width\n",
    "length = float(input(\"length of the rectangle:\" ))\n",
    "width  = float(input(\"width of the rectangle:\" ))\n",
    "\n",
    "#step 2: Formula of Area of rectangle\n",
    "Area = length * width\n",
    "\n",
    "#Step 3: Display the area\n",
    "print (\"Area of the rectangle =\", Area)"
   ]
  },
  {
   "cell_type": "markdown",
   "id": "5ee8b9b1-c295-45f6-80b8-7ab951b6b51b",
   "metadata": {},
   "source": [
    "- In step 1: I had created the user input using input() for length of the rectangle and width of the rectangle, stored this in variable length and width.As we know that user input always comes in the form of string. So, I used the floating point number used as float() because maybe the Area of the rectangle will come in decimal form.\n",
    "- In step 2: I had written the formula for Area of rectangle = length * width\n",
    "- In step 3: I used print function print() to display the Area which is 2500.0"
   ]
  },
  {
   "cell_type": "markdown",
   "id": "05d0f87c-aa90-43c9-8e5a-279eda20115c",
   "metadata": {},
   "source": [
    "3. Write a Python program that converts temperatures from Celsius to\n",
    "Fahrenheit. Take the temperature in Celsius as input, store it in a variable,\n",
    "convert it to Fahrenheit, and display the result."
   ]
  },
  {
   "cell_type": "code",
   "execution_count": 14,
   "id": "888574c0-d9ea-40d2-ad15-e4d41d9d29e1",
   "metadata": {},
   "outputs": [
    {
     "name": "stdin",
     "output_type": "stream",
     "text": [
      "Temperature in Celsius: 50\n"
     ]
    },
    {
     "name": "stdout",
     "output_type": "stream",
     "text": [
      "Temperature in Fahrenheit = 122.0\n"
     ]
    }
   ],
   "source": [
    "#Step1 : Take temperature in celsius as user input\n",
    "Celsius = float(input(\"Temperature in Celsius:\"))\n",
    "\n",
    "#step 2: Formula to convert temperature from CCelsius to Fahrenheit\n",
    "Fahrenheit = Celsius * (9/5) + 32\n",
    "\n",
    "#Step 3: Display the result\n",
    "print (\"Temperature in Fahrenheit =\", Fahrenheit)"
   ]
  },
  {
   "cell_type": "markdown",
   "id": "69557df7-28c7-4684-ba05-13f6ab06989a",
   "metadata": {},
   "source": [
    "- In Step 1: we have taken Celsius as user input using input().As we know user input always gives string as output. So, we had used the floating point number used as float() as temperature could be in decimal form\n",
    "- In step 2: write the Formula to convert temperature from CCelsius to Fahrenheit which is Fahrenheit = Celsius * (9/5) + 32\n",
    "- step 3: Use print function print() to display the result "
   ]
  },
  {
   "cell_type": "markdown",
   "id": "b0118d3b-7be5-4c38-9fb3-1edf5f234578",
   "metadata": {},
   "source": [
    "TOPIC: String Based Questions"
   ]
  },
  {
   "cell_type": "markdown",
   "id": "9319a0a6-0ee2-453a-a8d6-f89e44e8b478",
   "metadata": {},
   "source": [
    "1. Write a Python program that takes a string as input and prints the length of\n",
    "the string.\n"
   ]
  },
  {
   "cell_type": "code",
   "execution_count": 19,
   "id": "5e92595d-d90d-4c89-9b87-b4e8ecfb504b",
   "metadata": {},
   "outputs": [
    {
     "name": "stdin",
     "output_type": "stream",
     "text": [
      "Enter the character of the string: Sayantan\n"
     ]
    },
    {
     "name": "stdout",
     "output_type": "stream",
     "text": [
      "Length of the string = 8\n"
     ]
    }
   ],
   "source": [
    "#Step 1: Declare string as user input\n",
    "string = input(\"Enter the character of the string:\")\n",
    "\n",
    "#Step 2: length of the string\n",
    "length = len(string)\n",
    "\n",
    "#step 3:prints the length of the string\n",
    "print (\"Length of the string =\",length)"
   ]
  },
  {
   "cell_type": "markdown",
   "id": "6211008f-23c0-4314-ac94-3cde61ea04ea",
   "metadata": {},
   "source": [
    "- Step 1: create user input for string using input()\n",
    "- step 2: Use built in function len(string) to calculate length of the string\n",
    "- step 3: Now, print the length of the string using print() function"
   ]
  },
  {
   "cell_type": "markdown",
   "id": "9d9a8501-f0bb-4ccd-837c-a5bd051452be",
   "metadata": {},
   "source": [
    "2. Create a program that takes a sentence from the user and counts the number\n",
    "of vowels (a, e, i, o, u) in the string.\n"
   ]
  },
  {
   "cell_type": "code",
   "execution_count": 33,
   "id": "354b9990-02b8-49ee-a803-172167baac77",
   "metadata": {},
   "outputs": [
    {
     "name": "stdin",
     "output_type": "stream",
     "text": [
      "Enter the sentence: Sayantan\n"
     ]
    },
    {
     "name": "stdout",
     "output_type": "stream",
     "text": [
      "The number of vowels in the string = 3\n"
     ]
    }
   ],
   "source": [
    "#Step 1: Define a function to count the number of values in the string\n",
    "def count_vowels(sentence):\n",
    "    vowels = \"aeiouAEIOU\"\n",
    "    #intialize the count\n",
    "    count = 0\n",
    "    \n",
    "    for character in sentence:\n",
    "        if character in vowels:\n",
    "            #Adding the count variable by 1\n",
    "            count = count + 1\n",
    "    \n",
    "    return count\n",
    "#step 2: declare user input for the sentence\n",
    "user_input = input(\"Enter the sentence:\")\n",
    "\n",
    "#Step 3: Counting the number of vowels\n",
    "count_vowels = count_vowels(user_input)\n",
    "\n",
    "\n",
    "#step 4: Display the result\n",
    "print (\"The number of vowels in the string =\",count_vowels)"
   ]
  },
  {
   "cell_type": "markdown",
   "id": "29cc74f7-185c-4f4b-8439-777cd09da98e",
   "metadata": {},
   "source": [
    "- step 1 : \n",
    "    - def count_vowels(sentence): this line creating the function to count the number of vowels in the sentence or string.\n",
    "    - vowels = \"aeiouAEIOU\": this line defines the vowels aeiouAEIOU\n",
    "    - count = 0: it initializes the count\n",
    "    - for character in sentence: it examines the character in the sentence\n",
    "    - if character in vowels: it examins only the character in vowels inside the sentence\n",
    "    - count = count + 1: If the current character is indeed a vowel (that is founded in vowel list) then count is incremented to count +1 to found more vowel in the sentence\n",
    "    - return count: return the final count of vowels in the sentence \n",
    "- step 2 takes the input from the user and stored it in the variable user_input\n",
    "- step 3 calls the variable user_input inside the function count_vowels for counting only the vowels int the string or sentence.\n",
    "- step 4 is calling the function count_vowels inside the print to display the number of vowels in the string."
   ]
  },
  {
   "cell_type": "markdown",
   "id": "cd07be71-45ee-4ebe-a444-161e09e86207",
   "metadata": {},
   "source": [
    "3. Given a string, reverse the order of characters using string slicing and print\n",
    "the reversed string.\n"
   ]
  },
  {
   "cell_type": "code",
   "execution_count": 7,
   "id": "e0234ccc-48c3-4f3e-b086-ff5adab65abd",
   "metadata": {},
   "outputs": [
    {
     "name": "stdin",
     "output_type": "stream",
     "text": [
      "Enter the string: sayantan\n"
     ]
    },
    {
     "name": "stdout",
     "output_type": "stream",
     "text": [
      "Reversed string: natnayas\n"
     ]
    }
   ],
   "source": [
    "#Step 1: Declare string as user input\n",
    "user_string = input(\"Enter the string:\")\n",
    "\n",
    "#Step 2: Now, we have to reverse the order of the given string\n",
    "#step 3: [start:end:step]\n",
    "#step 4: here in the string we are moving backwards at step -1 and stop at the begining  \n",
    "reversed = user_string[::-1]\n",
    "\n",
    "#step 5: display the result\n",
    "print('Reversed string:',reversed)"
   ]
  },
  {
   "cell_type": "markdown",
   "id": "2961feb8-0af3-4cf9-8b13-77a5a2a75584",
   "metadata": {},
   "source": [
    "- Step 1: create user input using user_string variable\n",
    "- step 3: Reversing the string using syntax: [start:end:stop]\n",
    "- Step 4: Here in the given string as problem asked too reverse the order of the string using string slicing so, we are moving backwards at step -1 and stop at the begining.  \n",
    "- step 5: Displaying the result using print() function"
   ]
  },
  {
   "cell_type": "markdown",
   "id": "ca24000a-eb19-48ba-8707-6806a3f6c8fe",
   "metadata": {},
   "source": [
    "4. Write a program that takes a string as input and checks if it is a palindrome\n",
    "(reads the same forwards and backwards)."
   ]
  },
  {
   "cell_type": "code",
   "execution_count": 59,
   "id": "eb11dbdb-fdda-4f8f-9090-a0e59789b528",
   "metadata": {},
   "outputs": [
    {
     "name": "stdin",
     "output_type": "stream",
     "text": [
      "Enter a string:  sayantan\n",
      "Enter a string:  level\n"
     ]
    },
    {
     "name": "stdout",
     "output_type": "stream",
     "text": [
      "reversed string is a palindrome : level\n",
      "reversed string is not a palindrome : sayantan\n"
     ]
    }
   ],
   "source": [
    "#Step 1: define a function to check if it is a palindrome(reads the same forwards and backwards).\n",
    "def palindrome_string(sentence):\n",
    "    reversed_string = sentence[::-1]              #here in the string we are moving backwards at step -1 and stop at the begining  \n",
    "\n",
    "#step 2: Taking string as input and check if it is a palindrome or not\n",
    "    if reversed_string == sentence:\n",
    "        print(\"reversed string is a palindrome :\",sentence)\n",
    "    else:\n",
    "        print(\"reversed string is not a palindrome :\",sentence)\n",
    "\n",
    "#step 3: declare string as user input\n",
    "userinput = input(\"Enter a string: \")\n",
    "user_input = input(\"Enter a string: \")\n",
    "\n",
    "#step 4: displaying the result\n",
    "palindrome_string(user_input)\n",
    "palindrome_string(userinput)"
   ]
  },
  {
   "cell_type": "markdown",
   "id": "713ac943-c74b-4e7a-88c1-631043eb7c2a",
   "metadata": {},
   "source": [
    "- Step 1: This line defines a function called palindrome_string that takes one parameter called sentence. This function will be responsible for checking if the given sentence is a palindrome.\n",
    "- step 2:  \"if reversed_string == sentence:\" this line responsible for checking the'reversed_string' to the original string 'sentence'. If they are the same that means the input reads the same forwards and backwards making it palindrome.\n",
    "- 'print(\"reversed string is a palindrome :\",sentence)' If the condition in the if statement is True, this line prints a message indicating that the input sentence is a palindrome.\n",
    "- 'else:' If condition in the if statement is false .This block code is executed.\n",
    "-  print(\"reversed string is not a palindrome :\",sentence): If the condition in the if statement is false. This line prints a message  indicating that the input sentence is not a palindrome\n",
    "- step 3: decline string as user input using input()\n",
    "- step 4: This line called the palindrome_string function and checks the embedded user_input,userinput is palindrome or not\n",
    "                     \n",
    "\n"
   ]
  },
  {
   "cell_type": "markdown",
   "id": "2a2d4ed4-aad0-4328-93e1-d443a95bc9bd",
   "metadata": {},
   "source": [
    "5. Create a program that takes a string as input and removes all the spaces from\n",
    "it. Print the modified string without spaces.\n"
   ]
  },
  {
   "cell_type": "code",
   "execution_count": 61,
   "id": "7d62c8fe-e7f1-4ea3-97fd-e451b77e8c7e",
   "metadata": {},
   "outputs": [
    {
     "name": "stdin",
     "output_type": "stream",
     "text": [
      "Enter the character of the string: hello baccho\n"
     ]
    },
    {
     "name": "stdout",
     "output_type": "stream",
     "text": [
      "removes_all_the_spaces_from_it = hellobaccho\n"
     ]
    }
   ],
   "source": [
    "#Step 1: Declare string as user inpput\n",
    "input_string = input(\"Enter the character of the string:\")\n",
    "\n",
    "#step 2: using replace function removing the spaces from the string\n",
    "words = input_string.replace(\" \", \"\")\n",
    "\n",
    "#step 3: display the result\n",
    "print(f'removes_all_the_spaces_from_it = {words}')"
   ]
  },
  {
   "cell_type": "markdown",
   "id": "fbd19e1d-31eb-4ba9-ba2a-d4c7acae0ec2",
   "metadata": {},
   "source": [
    "- step 1: In this line taking string input from the user and stored it in input_string.\n",
    "- step 2: this line is calling python in built function 'input_string.replace(\" \", \"\")' to remove all the spaces from the string.\n",
    "- step 3: in step 3 we used print() function to call the variable and print as a result.\n"
   ]
  },
  {
   "cell_type": "code",
   "execution_count": null,
   "id": "99080a1f-7db1-45ac-9da4-f99ff7870a71",
   "metadata": {},
   "outputs": [],
   "source": []
  }
 ],
 "metadata": {
  "kernelspec": {
   "display_name": "Python 3 (ipykernel)",
   "language": "python",
   "name": "python3"
  },
  "language_info": {
   "codemirror_mode": {
    "name": "ipython",
    "version": 3
   },
   "file_extension": ".py",
   "mimetype": "text/x-python",
   "name": "python",
   "nbconvert_exporter": "python",
   "pygments_lexer": "ipython3",
   "version": "3.10.8"
  }
 },
 "nbformat": 4,
 "nbformat_minor": 5
}
